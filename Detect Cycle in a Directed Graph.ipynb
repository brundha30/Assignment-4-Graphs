{
 "cells": [
  {
   "cell_type": "code",
   "execution_count": 1,
   "metadata": {},
   "outputs": [
    {
     "name": "stdout",
     "output_type": "stream",
     "text": [
      "The graph contains a cycle.\n"
     ]
    }
   ],
   "source": [
    "class Graph:\n",
    "    def __init__(self, vertices):\n",
    "        self.vertices = vertices\n",
    "        self.adjacency_list = [[] for _ in range(vertices)]\n",
    "\n",
    "    def add_edge(self, source, destination):\n",
    "        self.adjacency_list[source].append(destination)\n",
    "\n",
    "    def is_cyclic_util(self, vertex, visited, recursion_stack):\n",
    "        visited[vertex] = True\n",
    "        recursion_stack[vertex] = True\n",
    "\n",
    "        for adjacent_vertex in self.adjacency_list[vertex]:\n",
    "            if not visited[adjacent_vertex]:\n",
    "                if self.is_cyclic_util(adjacent_vertex, visited, recursion_stack):\n",
    "                    return True\n",
    "            elif recursion_stack[adjacent_vertex]:\n",
    "                return True\n",
    "\n",
    "        recursion_stack[vertex] = False\n",
    "        return False\n",
    "\n",
    "    def is_cyclic(self):\n",
    "        visited = [False] * self.vertices\n",
    "        recursion_stack = [False] * self.vertices\n",
    "\n",
    "        for vertex in range(self.vertices):\n",
    "            if not visited[vertex]:\n",
    "                if self.is_cyclic_util(vertex, visited, recursion_stack):\n",
    "                    return True\n",
    "\n",
    "        return False\n",
    "\n",
    "graph = Graph(4)\n",
    "\n",
    "graph.add_edge(0, 1)\n",
    "graph.add_edge(1, 2)\n",
    "graph.add_edge(2, 3)\n",
    "graph.add_edge(3, 0)\n",
    "\n",
    "has_cycle = graph.is_cyclic()\n",
    "if has_cycle:\n",
    "    print(\"The graph contains a cycle.\")\n",
    "else:\n",
    "    print(\"The graph does not contain a cycle.\")\n"
   ]
  },
  {
   "cell_type": "code",
   "execution_count": null,
   "metadata": {},
   "outputs": [],
   "source": []
  }
 ],
 "metadata": {
  "kernelspec": {
   "display_name": "Python 3",
   "language": "python",
   "name": "python3"
  },
  "language_info": {
   "codemirror_mode": {
    "name": "ipython",
    "version": 3
   },
   "file_extension": ".py",
   "mimetype": "text/x-python",
   "name": "python",
   "nbconvert_exporter": "python",
   "pygments_lexer": "ipython3",
   "version": "3.7.6"
  }
 },
 "nbformat": 4,
 "nbformat_minor": 4
}
