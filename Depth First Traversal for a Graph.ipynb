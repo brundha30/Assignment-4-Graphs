{
 "cells": [
  {
   "cell_type": "code",
   "execution_count": 2,
   "metadata": {},
   "outputs": [
    {
     "name": "stdout",
     "output_type": "stream",
     "text": [
      "DFS Traversal:\n",
      "0 1 3 2 4 5 "
     ]
    }
   ],
   "source": [
    "class Graph:\n",
    "    def __init__(self, vertices):\n",
    "        self.vertices = vertices\n",
    "        self.adjacency_list = [[] for _ in range(vertices)]\n",
    "\n",
    "    def add_edge(self, source, destination):\n",
    "        self.adjacency_list[source].append(destination)\n",
    "\n",
    "    def dfs_recursive(self, start_vertex, visited):\n",
    "        visited[start_vertex] = True\n",
    "        print(start_vertex, end=\" \")\n",
    "\n",
    "        for adjacent_vertex in self.adjacency_list[start_vertex]:\n",
    "            if not visited[adjacent_vertex]:\n",
    "                self.dfs_recursive(adjacent_vertex, visited)\n",
    "\n",
    "    def dfs(self, start_vertex):\n",
    "        visited = [False] * self.vertices\n",
    "        self.dfs_recursive(start_vertex, visited)\n",
    "\n",
    "\n",
    "graph = Graph(6)\n",
    "\n",
    "graph.add_edge(0, 1)\n",
    "graph.add_edge(0, 2)\n",
    "graph.add_edge(1, 3)\n",
    "graph.add_edge(2, 4)\n",
    "graph.add_edge(2, 5)\n",
    "\n",
    "print(\"DFS Traversal:\")\n",
    "graph.dfs(0)\n"
   ]
  },
  {
   "cell_type": "code",
   "execution_count": null,
   "metadata": {},
   "outputs": [],
   "source": []
  }
 ],
 "metadata": {
  "kernelspec": {
   "display_name": "Python 3",
   "language": "python",
   "name": "python3"
  },
  "language_info": {
   "codemirror_mode": {
    "name": "ipython",
    "version": 3
   },
   "file_extension": ".py",
   "mimetype": "text/x-python",
   "name": "python",
   "nbconvert_exporter": "python",
   "pygments_lexer": "ipython3",
   "version": "3.7.6"
  }
 },
 "nbformat": 4,
 "nbformat_minor": 4
}
