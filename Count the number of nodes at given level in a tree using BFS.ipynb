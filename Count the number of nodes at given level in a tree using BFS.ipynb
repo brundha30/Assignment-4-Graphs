{
 "cells": [
  {
   "cell_type": "code",
   "execution_count": 1,
   "metadata": {},
   "outputs": [
    {
     "name": "stdout",
     "output_type": "stream",
     "text": [
      "Number of nodes at level 2 : 1\n"
     ]
    }
   ],
   "source": [
    "from collections import deque\n",
    "\n",
    "class Node:\n",
    "    def __init__(self, value):\n",
    "        self.value = value\n",
    "        self.left = None\n",
    "        self.right = None\n",
    "\n",
    "\n",
    "class BinaryTree:\n",
    "    def __init__(self):\n",
    "        self.root = None\n",
    "\n",
    "    def insert(self, value):\n",
    "        if self.root is None:\n",
    "            self.root = Node(value)\n",
    "        else:\n",
    "            self._insert_recursive(self.root, value)\n",
    "\n",
    "    def _insert_recursive(self, node, value):\n",
    "        if value < node.value:\n",
    "            if node.left is None:\n",
    "                node.left = Node(value)\n",
    "            else:\n",
    "                self._insert_recursive(node.left, value)\n",
    "        else:\n",
    "            if node.right is None:\n",
    "                node.right = Node(value)\n",
    "            else:\n",
    "                self._insert_recursive(node.right, value)\n",
    "\n",
    "    def count_nodes_at_level(self, target_level):\n",
    "        if self.root is None:\n",
    "            return 0\n",
    "\n",
    "        level = 1\n",
    "        queue = deque()\n",
    "        queue.append((self.root, level))\n",
    "        count = 0\n",
    "\n",
    "        while queue:\n",
    "            node, node_level = queue.popleft()\n",
    "\n",
    "            if node_level == target_level:\n",
    "                count += 1\n",
    "\n",
    "            if node.left:\n",
    "                queue.append((node.left, node_level + 1))\n",
    "            if node.right:\n",
    "                queue.append((node.right, node_level + 1))\n",
    "\n",
    "        return count\n",
    "\n",
    "tree = BinaryTree()\n",
    "\n",
    "tree.insert(1)\n",
    "tree.insert(2)\n",
    "tree.insert(3)\n",
    "tree.insert(4)\n",
    "tree.insert(5)\n",
    "tree.insert(6)\n",
    "tree.insert(7)\n",
    "\n",
    "target_level = 2\n",
    "node_count = tree.count_nodes_at_level(target_level)\n",
    "print(\"Number of nodes at level\", target_level, \":\", node_count)"
   ]
  },
  {
   "cell_type": "code",
   "execution_count": null,
   "metadata": {},
   "outputs": [],
   "source": []
  }
 ],
 "metadata": {
  "kernelspec": {
   "display_name": "Python 3",
   "language": "python",
   "name": "python3"
  },
  "language_info": {
   "codemirror_mode": {
    "name": "ipython",
    "version": 3
   },
   "file_extension": ".py",
   "mimetype": "text/x-python",
   "name": "python",
   "nbconvert_exporter": "python",
   "pygments_lexer": "ipython3",
   "version": "3.7.6"
  }
 },
 "nbformat": 4,
 "nbformat_minor": 4
}
