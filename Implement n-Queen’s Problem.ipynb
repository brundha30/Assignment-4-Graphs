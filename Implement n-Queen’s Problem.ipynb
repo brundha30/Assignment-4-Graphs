{
 "cells": [
  {
   "cell_type": "code",
   "execution_count": 1,
   "metadata": {},
   "outputs": [
    {
     "name": "stdout",
     "output_type": "stream",
     "text": [
      "Solution:\n",
      "..Q.\n",
      "Q...\n",
      "...Q\n",
      ".Q..\n",
      "\n",
      "Solution:\n",
      ".Q..\n",
      "...Q\n",
      "Q...\n",
      "..Q.\n",
      "\n"
     ]
    }
   ],
   "source": [
    "class NQueens:\n",
    "    def __init__(self, n):\n",
    "        self.n = n\n",
    "        self.board = [[0] * n for _ in range(n)]\n",
    "        self.solutions = []\n",
    "\n",
    "    def solve_nqueens(self):\n",
    "        self._solve(0)\n",
    "        return self.solutions\n",
    "\n",
    "    def _solve(self, col):\n",
    "        if col == self.n:\n",
    "            solution = []\n",
    "            for i in range(self.n):\n",
    "                row = ''.join(['Q' if self.board[i][j] else '.' for j in range(self.n)])\n",
    "                solution.append(row)\n",
    "            self.solutions.append(solution)\n",
    "            return\n",
    "\n",
    "        for row in range(self.n):\n",
    "            if self._is_safe(row, col):\n",
    "                self.board[row][col] = 1\n",
    "                self._solve(col + 1)\n",
    "                self.board[row][col] = 0\n",
    "\n",
    "    def _is_safe(self, row, col):\n",
    "        for i in range(col):\n",
    "            if self.board[row][i] == 1:\n",
    "                return False\n",
    "\n",
    "        for i, j in zip(range(row, -1, -1), range(col, -1, -1)):\n",
    "            if self.board[i][j] == 1:\n",
    "                return False\n",
    "\n",
    "        for i, j in zip(range(row, self.n), range(col, -1, -1)):\n",
    "            if self.board[i][j] == 1:\n",
    "                return False\n",
    "\n",
    "        return True\n",
    "\n",
    "n_queens = NQueens(4)\n",
    "\n",
    "solutions = n_queens.solve_nqueens()\n",
    "\n",
    "for solution in solutions:\n",
    "    print(\"Solution:\")\n",
    "    for row in solution:\n",
    "        print(row)\n",
    "    print()"
   ]
  },
  {
   "cell_type": "code",
   "execution_count": null,
   "metadata": {},
   "outputs": [],
   "source": []
  }
 ],
 "metadata": {
  "kernelspec": {
   "display_name": "Python 3",
   "language": "python",
   "name": "python3"
  },
  "language_info": {
   "codemirror_mode": {
    "name": "ipython",
    "version": 3
   },
   "file_extension": ".py",
   "mimetype": "text/x-python",
   "name": "python",
   "nbconvert_exporter": "python",
   "pygments_lexer": "ipython3",
   "version": "3.7.6"
  }
 },
 "nbformat": 4,
 "nbformat_minor": 4
}
