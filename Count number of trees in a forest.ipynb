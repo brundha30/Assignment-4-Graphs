{
 "cells": [
  {
   "cell_type": "code",
   "execution_count": 1,
   "metadata": {},
   "outputs": [
    {
     "name": "stdout",
     "output_type": "stream",
     "text": [
      "Number of trees in the forest: 3\n"
     ]
    }
   ],
   "source": [
    "class Graph:\n",
    "    def __init__(self, vertices):\n",
    "        self.vertices = vertices\n",
    "        self.adjacency_list = [[] for _ in range(vertices)]\n",
    "\n",
    "    def add_edge(self, source, destination):\n",
    "        self.adjacency_list[source].append(destination)\n",
    "        self.adjacency_list[destination].append(source)\n",
    "\n",
    "    def dfs(self, vertex, visited):\n",
    "        visited[vertex] = True\n",
    "\n",
    "        for adjacent_vertex in self.adjacency_list[vertex]:\n",
    "            if not visited[adjacent_vertex]:\n",
    "                self.dfs(adjacent_vertex, visited)\n",
    "\n",
    "    def count_trees(self):\n",
    "        visited = [False] * self.vertices\n",
    "        count = 0\n",
    "\n",
    "        for vertex in range(self.vertices):\n",
    "            if not visited[vertex]:\n",
    "                self.dfs(vertex, visited)\n",
    "                count += 1\n",
    "\n",
    "        return count\n",
    "\n",
    "graph = Graph(8)\n",
    "\n",
    "graph.add_edge(0, 1)\n",
    "graph.add_edge(1, 2)\n",
    "graph.add_edge(3, 4)\n",
    "graph.add_edge(4, 5)\n",
    "graph.add_edge(5, 6)\n",
    "graph.add_edge(7, 7)\n",
    "\n",
    "tree_count = graph.count_trees()\n",
    "print(\"Number of trees in the forest:\", tree_count)\n"
   ]
  },
  {
   "cell_type": "code",
   "execution_count": null,
   "metadata": {},
   "outputs": [],
   "source": []
  }
 ],
 "metadata": {
  "kernelspec": {
   "display_name": "Python 3",
   "language": "python",
   "name": "python3"
  },
  "language_info": {
   "codemirror_mode": {
    "name": "ipython",
    "version": 3
   },
   "file_extension": ".py",
   "mimetype": "text/x-python",
   "name": "python",
   "nbconvert_exporter": "python",
   "pygments_lexer": "ipython3",
   "version": "3.7.6"
  }
 },
 "nbformat": 4,
 "nbformat_minor": 4
}
